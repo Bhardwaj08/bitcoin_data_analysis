{
 "cells": [
  {
   "cell_type": "code",
   "execution_count": 1,
   "id": "854750cc-7aa6-4757-b22e-44789dcc0132",
   "metadata": {},
   "outputs": [
    {
     "data": {
      "application/vnd.jupyter.widget-view+json": {
       "model_id": "bd5946903fdd402c8f37347b9d84a078",
       "version_major": 2,
       "version_minor": 0
      },
      "text/plain": [
       "Query is running:   0%|          |"
      ]
     },
     "metadata": {},
     "output_type": "display_data"
    },
    {
     "data": {
      "application/vnd.jupyter.widget-view+json": {
       "model_id": "ec9e4052414e4f02b737121aa11a1e4a",
       "version_major": 2,
       "version_minor": 0
      },
      "text/plain": [
       "Downloading:   0%|          |"
      ]
     },
     "metadata": {},
     "output_type": "display_data"
    }
   ],
   "source": [
    "%%bigquery pizza_day\n",
    "SELECT \n",
    "* \n",
    "FROM \n",
    "`bigquery-public-data.crypto_bitcoin.transactions` as transactions \n",
    "WHERE transactions.hash = 'a1075db55d416d3ca199f55b6084e2115b9345e16c5cf302fc80e9d5fbf5d48d'"
   ]
  },
  {
   "cell_type": "code",
   "execution_count": 3,
   "id": "a6e64490-a6c5-4574-9390-53c81b9e945c",
   "metadata": {},
   "outputs": [
    {
     "data": {
      "text/html": [
       "<div>\n",
       "<style scoped>\n",
       "    .dataframe tbody tr th:only-of-type {\n",
       "        vertical-align: middle;\n",
       "    }\n",
       "\n",
       "    .dataframe tbody tr th {\n",
       "        vertical-align: top;\n",
       "    }\n",
       "\n",
       "    .dataframe thead th {\n",
       "        text-align: right;\n",
       "    }\n",
       "</style>\n",
       "<table border=\"1\" class=\"dataframe\">\n",
       "  <thead>\n",
       "    <tr style=\"text-align: right;\">\n",
       "      <th></th>\n",
       "      <th>hash</th>\n",
       "      <th>size</th>\n",
       "      <th>virtual_size</th>\n",
       "      <th>version</th>\n",
       "      <th>lock_time</th>\n",
       "      <th>block_hash</th>\n",
       "      <th>block_number</th>\n",
       "      <th>block_timestamp</th>\n",
       "      <th>block_timestamp_month</th>\n",
       "      <th>input_count</th>\n",
       "      <th>output_count</th>\n",
       "      <th>input_value</th>\n",
       "      <th>output_value</th>\n",
       "      <th>is_coinbase</th>\n",
       "      <th>fee</th>\n",
       "      <th>inputs</th>\n",
       "      <th>outputs</th>\n",
       "    </tr>\n",
       "  </thead>\n",
       "  <tbody>\n",
       "    <tr>\n",
       "      <th>0</th>\n",
       "      <td>a1075db55d416d3ca199f55b6084e2115b9345e16c5cf3...</td>\n",
       "      <td>23620</td>\n",
       "      <td>23620</td>\n",
       "      <td>1</td>\n",
       "      <td>0</td>\n",
       "      <td>00000000152340ca42227603908689183edc47355204e7...</td>\n",
       "      <td>57043</td>\n",
       "      <td>2010-05-22 18:16:31+00:00</td>\n",
       "      <td>2010-05-01</td>\n",
       "      <td>131</td>\n",
       "      <td>1</td>\n",
       "      <td>1000099000000.000000000</td>\n",
       "      <td>1000000000000.000000000</td>\n",
       "      <td>False</td>\n",
       "      <td>99000000.000000000</td>\n",
       "      <td>[{'index': 0, 'spent_transaction_hash': '867da...</td>\n",
       "      <td>[{'index': 0, 'script_asm': 'OP_DUP OP_HASH160...</td>\n",
       "    </tr>\n",
       "  </tbody>\n",
       "</table>\n",
       "</div>"
      ],
      "text/plain": [
       "                                                hash   size  virtual_size  \\\n",
       "0  a1075db55d416d3ca199f55b6084e2115b9345e16c5cf3...  23620         23620   \n",
       "\n",
       "   version  lock_time                                         block_hash  \\\n",
       "0        1          0  00000000152340ca42227603908689183edc47355204e7...   \n",
       "\n",
       "   block_number           block_timestamp block_timestamp_month  input_count  \\\n",
       "0         57043 2010-05-22 18:16:31+00:00            2010-05-01          131   \n",
       "\n",
       "   output_count              input_value             output_value  \\\n",
       "0             1  1000099000000.000000000  1000000000000.000000000   \n",
       "\n",
       "   is_coinbase                 fee  \\\n",
       "0        False  99000000.000000000   \n",
       "\n",
       "                                              inputs  \\\n",
       "0  [{'index': 0, 'spent_transaction_hash': '867da...   \n",
       "\n",
       "                                             outputs  \n",
       "0  [{'index': 0, 'script_asm': 'OP_DUP OP_HASH160...  "
      ]
     },
     "execution_count": 3,
     "metadata": {},
     "output_type": "execute_result"
    }
   ],
   "source": [
    "pizza_day"
   ]
  },
  {
   "cell_type": "code",
   "execution_count": 39,
   "id": "d9a572c8-ae27-48a7-8d58-8f0a14bf81ab",
   "metadata": {},
   "outputs": [
    {
     "name": "stdout",
     "output_type": "stream",
     "text": [
      "Laszlo Hanyecz spent 10000.0 bitcoins in 2010 for two pizzas\n",
      "Price of 10000.0 bitcoins in Dec 23 is 416324000.0 USD\n"
     ]
    }
   ],
   "source": [
    "## The satoshi is currently the smallest unit of the bitcoin currency recorded on the block chain.\n",
    "## https://bitcointalk.org/index.php?topic=137.msg1195#msg1195\n",
    "## one satoshi is 0.00000001 BTC\n",
    "## price of one bitcoin '23 => 41,632.40 USD\n",
    "## Analayzing `https://qz.com/1285209/bitcoin-pizza-day-2018-eight-years-ago-someone-bought-two-pizzas-with-bitcoins-now-worth-82-million`\n",
    "\n",
    "\n",
    "num_bitcoins = 0.00000001 * float(pizza_day['output_value'][0])\n",
    "price_of_bitcoin = 41_632.40 * num_bitcoins\n",
    "\n",
    "print(f\"Laszlo Hanyecz spent {num_bitcoins} bitcoins in 2010 for two pizzas\")\n",
    "print(f\"Price of {num_bitcoins} bitcoins in Dec 23 is {price_of_bitcoin} USD\")"
   ]
  },
  {
   "cell_type": "code",
   "execution_count": 40,
   "id": "d0986d7f-f46b-4071-a319-59042535d864",
   "metadata": {},
   "outputs": [],
   "source": [
    "## The price of 10,000 bitcoins today is 416 million USD"
   ]
  },
  {
   "cell_type": "code",
   "execution_count": 52,
   "id": "232ccea1-ccb8-4a5c-80e9-75cf68944bee",
   "metadata": {},
   "outputs": [
    {
     "data": {
      "text/plain": [
       "'1XPTgDRhN8RFnzniWCddobD9iKZatrvH4'"
      ]
     },
     "execution_count": 52,
     "metadata": {},
     "output_type": "execute_result"
    }
   ],
   "source": [
    "pizza_day['inputs'][0][0]['addresses'][0]"
   ]
  },
  {
   "cell_type": "code",
   "execution_count": 57,
   "id": "fa6fb83a-ded6-4083-a85a-362e5e21f1e5",
   "metadata": {
    "tags": []
   },
   "outputs": [
    {
     "data": {
      "application/vnd.jupyter.widget-view+json": {
       "model_id": "f631c10526f148dab340d2254b5412c9",
       "version_major": 2,
       "version_minor": 0
      },
      "text/plain": [
       "Query is running:   0%|          |"
      ]
     },
     "metadata": {},
     "output_type": "display_data"
    },
    {
     "data": {
      "application/vnd.jupyter.widget-view+json": {
       "model_id": "93533141e1864923a04f1d7be09e11c6",
       "version_major": 2,
       "version_minor": 0
      },
      "text/plain": [
       "Downloading:   0%|          |"
      ]
     },
     "metadata": {},
     "output_type": "display_data"
    }
   ],
   "source": [
    "## SQL source from https://cloud.google.com/blog/products/data-analytics/introducing-six-new-cryptocurrencies-in-bigquery-public-datasets-and-how-to-analyze-them\n",
    "\n",
    "%%bigquery pizza_day_wallet\n",
    "WITH pizza_day_wallet AS (\n",
    "   -- debits\n",
    "   SELECT\n",
    "    array_to_string(inputs.addresses, \",\") as address\n",
    "   , -inputs.value as value\n",
    "   FROM `bigquery-public-data.crypto_bitcoin.inputs` as inputs\n",
    "   UNION ALL\n",
    "   -- credits\n",
    "   SELECT\n",
    "    array_to_string(outputs.addresses, \",\") as address\n",
    "   , outputs.value as value\n",
    "   FROM `bigquery-public-data.crypto_bitcoin.outputs` as outputs\n",
    ")\n",
    "SELECT\n",
    "   address\n",
    ",   sum(value) as balance\n",
    "FROM pizza_day_wallet\n",
    "WHERE address = '1XPTgDRhN8RFnzniWCddobD9iKZatrvH4'\n",
    "GROUP BY 1"
   ]
  },
  {
   "cell_type": "code",
   "execution_count": 59,
   "id": "4538639b-4977-49df-b556-a4765548dc6f",
   "metadata": {},
   "outputs": [
    {
     "data": {
      "text/html": [
       "<div>\n",
       "<style scoped>\n",
       "    .dataframe tbody tr th:only-of-type {\n",
       "        vertical-align: middle;\n",
       "    }\n",
       "\n",
       "    .dataframe tbody tr th {\n",
       "        vertical-align: top;\n",
       "    }\n",
       "\n",
       "    .dataframe thead th {\n",
       "        text-align: right;\n",
       "    }\n",
       "</style>\n",
       "<table border=\"1\" class=\"dataframe\">\n",
       "  <thead>\n",
       "    <tr style=\"text-align: right;\">\n",
       "      <th></th>\n",
       "      <th>address</th>\n",
       "      <th>balance</th>\n",
       "    </tr>\n",
       "  </thead>\n",
       "  <tbody>\n",
       "    <tr>\n",
       "      <th>0</th>\n",
       "      <td>1XPTgDRhN8RFnzniWCddobD9iKZatrvH4</td>\n",
       "      <td>20234.000000000</td>\n",
       "    </tr>\n",
       "  </tbody>\n",
       "</table>\n",
       "</div>"
      ],
      "text/plain": [
       "                             address          balance\n",
       "0  1XPTgDRhN8RFnzniWCddobD9iKZatrvH4  20234.000000000"
      ]
     },
     "execution_count": 59,
     "metadata": {},
     "output_type": "execute_result"
    }
   ],
   "source": [
    "pizza_day_wallet"
   ]
  },
  {
   "cell_type": "code",
   "execution_count": 85,
   "id": "1e2f33d4-90db-4290-bba2-7a9b9ddd4a38",
   "metadata": {},
   "outputs": [
    {
     "data": {
      "application/vnd.jupyter.widget-view+json": {
       "model_id": "db615e006f504e86b4a5cfff8f56a785",
       "version_major": 2,
       "version_minor": 0
      },
      "text/plain": [
       "Query is running:   0%|          |"
      ]
     },
     "metadata": {},
     "output_type": "display_data"
    },
    {
     "data": {
      "application/vnd.jupyter.widget-view+json": {
       "model_id": "500b2a6cf88b4efda4b5c5ef4a76b272",
       "version_major": 2,
       "version_minor": 0
      },
      "text/plain": [
       "Downloading:   0%|          |"
      ]
     },
     "metadata": {},
     "output_type": "display_data"
    }
   ],
   "source": [
    "%%bigquery ts_block_trans\n",
    "SELECT\n",
    "    DATE(block_timestamp_month),\n",
    "    COUNT(*)\n",
    "FROM `bigquery-public-data.crypto_bitcoin.transactions` as transactions\n",
    "GROUP BY 1"
   ]
  },
  {
   "cell_type": "code",
   "execution_count": 86,
   "id": "60495585-1aac-4ef0-b7ab-b10899263be9",
   "metadata": {},
   "outputs": [
    {
     "name": "stdout",
     "output_type": "stream",
     "text": [
      "Date range: 2009-01-01 00:00:00 - 2023-12-01 00:00:00\n"
     ]
    }
   ],
   "source": [
    "import pandas as pd\n",
    "import matplotlib.pyplot as plt\n",
    "\n",
    "plt.style.use('ggplot')\n",
    "\n",
    "ts_block_trans.columns = ['date', 'num_transactions']\n",
    "\n",
    "ts_block_trans['date'] = pd.to_datetime(ts_block_trans['date'])\n",
    "ts_block_trans['num_transactions'] = pd.to_numeric(ts_block_trans['num_transactions'])\n",
    "\n",
    "print(f'Date range: {ts_block_trans[\"date\"].min()} - {ts_block_trans[\"date\"].max()}')"
   ]
  },
  {
   "cell_type": "code",
   "execution_count": 89,
   "id": "e77fce7c-a6dc-4ad0-bdf1-e2f70ed03d42",
   "metadata": {},
   "outputs": [
    {
     "data": {
      "text/html": [
       "<div>\n",
       "<style scoped>\n",
       "    .dataframe tbody tr th:only-of-type {\n",
       "        vertical-align: middle;\n",
       "    }\n",
       "\n",
       "    .dataframe tbody tr th {\n",
       "        vertical-align: top;\n",
       "    }\n",
       "\n",
       "    .dataframe thead th {\n",
       "        text-align: right;\n",
       "    }\n",
       "</style>\n",
       "<table border=\"1\" class=\"dataframe\">\n",
       "  <thead>\n",
       "    <tr style=\"text-align: right;\">\n",
       "      <th></th>\n",
       "      <th>date</th>\n",
       "      <th>num_transactions</th>\n",
       "    </tr>\n",
       "  </thead>\n",
       "  <tbody>\n",
       "    <tr>\n",
       "      <th>0</th>\n",
       "      <td>2021-08-01</td>\n",
       "      <td>7453146</td>\n",
       "    </tr>\n",
       "    <tr>\n",
       "      <th>1</th>\n",
       "      <td>2009-10-01</td>\n",
       "      <td>2139</td>\n",
       "    </tr>\n",
       "    <tr>\n",
       "      <th>2</th>\n",
       "      <td>2009-05-01</td>\n",
       "      <td>3401</td>\n",
       "    </tr>\n",
       "    <tr>\n",
       "      <th>3</th>\n",
       "      <td>2015-06-01</td>\n",
       "      <td>3510876</td>\n",
       "    </tr>\n",
       "    <tr>\n",
       "      <th>4</th>\n",
       "      <td>2011-11-01</td>\n",
       "      <td>169012</td>\n",
       "    </tr>\n",
       "  </tbody>\n",
       "</table>\n",
       "</div>"
      ],
      "text/plain": [
       "        date  num_transactions\n",
       "0 2021-08-01           7453146\n",
       "1 2009-10-01              2139\n",
       "2 2009-05-01              3401\n",
       "3 2015-06-01           3510876\n",
       "4 2011-11-01            169012"
      ]
     },
     "execution_count": 89,
     "metadata": {},
     "output_type": "execute_result"
    }
   ],
   "source": [
    "ts_block_trans.head()"
   ]
  },
  {
   "cell_type": "code",
   "execution_count": 95,
   "id": "630d9845-5de8-48e8-a916-df24c5127de4",
   "metadata": {},
   "outputs": [
    {
     "data": {
      "text/html": [
       "<div>\n",
       "<style scoped>\n",
       "    .dataframe tbody tr th:only-of-type {\n",
       "        vertical-align: middle;\n",
       "    }\n",
       "\n",
       "    .dataframe tbody tr th {\n",
       "        vertical-align: top;\n",
       "    }\n",
       "\n",
       "    .dataframe thead th {\n",
       "        text-align: right;\n",
       "    }\n",
       "</style>\n",
       "<table border=\"1\" class=\"dataframe\">\n",
       "  <thead>\n",
       "    <tr style=\"text-align: right;\">\n",
       "      <th></th>\n",
       "      <th>date</th>\n",
       "      <th>num_transactions</th>\n",
       "      <th>year</th>\n",
       "      <th>month</th>\n",
       "    </tr>\n",
       "  </thead>\n",
       "  <tbody>\n",
       "    <tr>\n",
       "      <th>0</th>\n",
       "      <td>2021-08-01</td>\n",
       "      <td>7453146</td>\n",
       "      <td>2021</td>\n",
       "      <td>8</td>\n",
       "    </tr>\n",
       "    <tr>\n",
       "      <th>1</th>\n",
       "      <td>2009-10-01</td>\n",
       "      <td>2139</td>\n",
       "      <td>2009</td>\n",
       "      <td>10</td>\n",
       "    </tr>\n",
       "    <tr>\n",
       "      <th>2</th>\n",
       "      <td>2009-05-01</td>\n",
       "      <td>3401</td>\n",
       "      <td>2009</td>\n",
       "      <td>5</td>\n",
       "    </tr>\n",
       "    <tr>\n",
       "      <th>3</th>\n",
       "      <td>2015-06-01</td>\n",
       "      <td>3510876</td>\n",
       "      <td>2015</td>\n",
       "      <td>6</td>\n",
       "    </tr>\n",
       "    <tr>\n",
       "      <th>4</th>\n",
       "      <td>2011-11-01</td>\n",
       "      <td>169012</td>\n",
       "      <td>2011</td>\n",
       "      <td>11</td>\n",
       "    </tr>\n",
       "  </tbody>\n",
       "</table>\n",
       "</div>"
      ],
      "text/plain": [
       "        date  num_transactions  year  month\n",
       "0 2021-08-01           7453146  2021      8\n",
       "1 2009-10-01              2139  2009     10\n",
       "2 2009-05-01              3401  2009      5\n",
       "3 2015-06-01           3510876  2015      6\n",
       "4 2011-11-01            169012  2011     11"
      ]
     },
     "execution_count": 95,
     "metadata": {},
     "output_type": "execute_result"
    }
   ],
   "source": [
    "ts_block_trans['year'] = ts_block_trans['date'].apply(lambda x: x.year)\n",
    "ts_block_trans['month'] = ts_block_trans['date'].apply(lambda x: x.month)\n",
    "\n",
    "ts_block_trans.head()"
   ]
  },
  {
   "cell_type": "code",
   "execution_count": 101,
   "id": "93f82d02-4509-4160-965a-615d3a97c326",
   "metadata": {},
   "outputs": [
    {
     "data": {
      "text/plain": [
       "year  month\n",
       "2009  1            2576.0\n",
       "      2            3417.0\n",
       "      3            3487.0\n",
       "      4            3459.0\n",
       "      5            3401.0\n",
       "                  ...    \n",
       "2023  8        14414040.0\n",
       "      9        14674972.0\n",
       "      10       10139137.0\n",
       "      11       16417694.0\n",
       "      12        5482062.0\n",
       "Name: num_transactions, Length: 180, dtype: Float64"
      ]
     },
     "execution_count": 101,
     "metadata": {},
     "output_type": "execute_result"
    }
   ],
   "source": [
    "ts_block_trans.groupby(['year','month'])['num_transactions'].mean()"
   ]
  },
  {
   "cell_type": "code",
   "execution_count": 105,
   "id": "1ddc9a9f-ccca-4153-a2f1-1244a12ab002",
   "metadata": {},
   "outputs": [
    {
     "data": {
      "text/plain": [
       "<Axes: xlabel='year'>"
      ]
     },
     "execution_count": 105,
     "metadata": {},
     "output_type": "execute_result"
    },
    {
     "data": {
      "image/png": "[encoded data removed]",
      "text/plain": [
       "<Figure size 640x480 with 1 Axes>"
      ]
     },
     "metadata": {},
     "output_type": "display_data"
    }
   ],
   "source": [
    "ts_block_trans.groupby('year')['num_transactions'].mean().plot()"
   ]
  },
  {
   "cell_type": "code",
   "execution_count": 106,
   "id": "a5b34da7-e5ee-4ac7-b87a-9c8dba18c674",
   "metadata": {},
   "outputs": [
    {
     "data": {
      "text/plain": [
       "<Axes: xlabel='month'>"
      ]
     },
     "execution_count": 106,
     "metadata": {},
     "output_type": "execute_result"
    },
    {
     "data": {
      "image/png": "[encoded data removed]",
      "text/plain": [
       "<Figure size 640x480 with 1 Axes>"
      ]
     },
     "metadata": {},
     "output_type": "display_data"
    }
   ],
   "source": [
    "ts_block_trans.groupby('month')['num_transactions'].mean().plot()"
   ]
  },
  {
   "cell_type": "code",
   "execution_count": 107,
   "id": "767737de-09da-420d-ace3-2b036a587dc7",
   "metadata": {},
   "outputs": [
    {
     "data": {
      "text/plain": [
       "Text(0.5, 1.0, 'Number of transactions per year')"
      ]
     },
     "execution_count": 107,
     "metadata": {},
     "output_type": "execute_result"
    },
    {
     "data": {
      "image/png": "[encoded data removed]",
      "text/plain": [
       "<Figure size 1600x500 with 1 Axes>"
      ]
     },
     "metadata": {},
     "output_type": "display_data"
    }
   ],
   "source": [
    "fig, ax = plt.subplots(figsize=(16,5))\n",
    "\n",
    "ax.bar(ts_block_trans['year'], ts_block_trans['num_transactions'])\n",
    "\n",
    "ax.set_ylabel('# of transactions per year')\n",
    "ax.set_xlabel('year')\n",
    "ax.set_title('Number of transactions per year')"
   ]
  },
  {
   "cell_type": "code",
   "execution_count": 111,
   "id": "950156e8-4974-417b-afdb-42129eb35612",
   "metadata": {},
   "outputs": [
    {
     "data": {
      "application/vnd.jupyter.widget-view+json": {
       "model_id": "71aec336b5114e6a84e58d4310a57c3a",
       "version_major": 2,
       "version_minor": 0
      },
      "text/plain": [
       "Query is running:   0%|          |"
      ]
     },
     "metadata": {},
     "output_type": "display_data"
    },
    {
     "data": {
      "application/vnd.jupyter.widget-view+json": {
       "model_id": "cfac65f61a33491a91d4b6ef42e56354",
       "version_major": 2,
       "version_minor": 0
      },
      "text/plain": [
       "Downloading:   0%|          |"
      ]
     },
     "metadata": {},
     "output_type": "display_data"
    }
   ],
   "source": [
    "%%bigquery block_size\n",
    "SELECT\n",
    "    EXTRACT(YEAR FROM block_timestamp_month) as year,\n",
    "    AVG(size) as avg_block_size\n",
    "FROM `bigquery-public-data.crypto_bitcoin.transactions` as transactions\n",
    "GROUP BY 1"
   ]
  },
  {
   "cell_type": "code",
   "execution_count": 115,
   "id": "c166894a-b8a7-4bd6-87f4-323d275206b7",
   "metadata": {},
   "outputs": [
    {
     "name": "stdout",
     "output_type": "stream",
     "text": [
      "<class 'pandas.core.frame.DataFrame'>\n",
      "RangeIndex: 15 entries, 0 to 14\n",
      "Data columns (total 2 columns):\n",
      " #   Column          Non-Null Count  Dtype  \n",
      "---  ------          --------------  -----  \n",
      " 0   year            15 non-null     Int64  \n",
      " 1   avg_block_size  15 non-null     float64\n",
      "dtypes: Int64(1), float64(1)\n",
      "memory usage: 383.0 bytes\n"
     ]
    }
   ],
   "source": [
    "block_size.info()"
   ]
  },
  {
   "cell_type": "code",
   "execution_count": 116,
   "id": "19178c9c-4f4d-41ed-be17-a079d00d86a6",
   "metadata": {},
   "outputs": [],
   "source": [
    "block_size['year'] = pd.to_datetime(block_size['year'], format='%Y')"
   ]
  },
  {
   "cell_type": "code",
   "execution_count": 130,
   "id": "d6ada100-75a9-428b-9b5f-1c63d4183453",
   "metadata": {},
   "outputs": [],
   "source": [
    "block_size.index = block_size['year'].apply(lambda x: x.year)\n",
    "\n",
    "block_size = block_size.drop('year', axis=1)"
   ]
  },
  {
   "cell_type": "code",
   "execution_count": 133,
   "id": "d1c6d9cf-e64f-47a3-9267-776f8b2e0b60",
   "metadata": {},
   "outputs": [
    {
     "data": {
      "text/plain": [
       "<Axes: ylabel='year'>"
      ]
     },
     "execution_count": 133,
     "metadata": {},
     "output_type": "execute_result"
    },
    {
     "data": {
      "image/png": "[encoded data removed]",
      "text/plain": [
       "<Figure size 640x480 with 1 Axes>"
      ]
     },
     "metadata": {},
     "output_type": "display_data"
    }
   ],
   "source": [
    "block_size.sort_index().plot(kind='barh')"
   ]
  },
  {
   "cell_type": "code",
   "execution_count": null,
   "id": "2d70c8e2-5f39-4b93-bbd3-ec9dc0c10190",
   "metadata": {},
   "outputs": [],
   "source": []
  }
 ],
 "metadata": {
  "kernelspec": {
   "display_name": "Python (Local)",
   "language": "python",
   "name": "local-base"
  },
  "language_info": {
   "codemirror_mode": {
    "name": "ipython",
    "version": 3
   },
   "file_extension": ".py",
   "mimetype": "text/x-python",
   "name": "python",
   "nbconvert_exporter": "python",
   "pygments_lexer": "ipython3",
   "version": "3.10.12"
  }
 },
 "nbformat": 4,
 "nbformat_minor": 5
}
